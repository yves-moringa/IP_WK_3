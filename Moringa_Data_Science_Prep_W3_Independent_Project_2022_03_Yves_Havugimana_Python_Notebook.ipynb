{
  "nbformat": 4,
  "nbformat_minor": 0,
  "metadata": {
    "colab": {
      "name": "Moringa_Data_Science_Prep_W3_Independent_Project_2022_03_Yves_Havugimana_Python_Notebook.ipynb",
      "provenance": [],
      "collapsed_sections": [],
      "authorship_tag": "ABX9TyOUOQIWcRhlG1t3tA7UzzCL",
      "include_colab_link": true
    },
    "kernelspec": {
      "name": "python3",
      "display_name": "Python 3"
    },
    "language_info": {
      "name": "python"
    }
  },
  "cells": [
    {
      "cell_type": "markdown",
      "metadata": {
        "id": "view-in-github",
        "colab_type": "text"
      },
      "source": [
        "<a href=\"https://colab.research.google.com/github/yves-moringa/IP_WK_3/blob/main/Moringa_Data_Science_Prep_W3_Independent_Project_2022_03_Yves_Havugimana_Python_Notebook.ipynb\" target=\"_parent\"><img src=\"https://colab.research.google.com/assets/colab-badge.svg\" alt=\"Open In Colab\"/></a>"
      ]
    },
    {
      "cell_type": "code",
      "execution_count": null,
      "metadata": {
        "id": "XfnPFhfXJQXr"
      },
      "outputs": [],
      "source": [
        ""
      ]
    }
  ]
}